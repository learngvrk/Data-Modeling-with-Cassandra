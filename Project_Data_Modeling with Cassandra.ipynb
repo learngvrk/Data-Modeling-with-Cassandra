{
 "cells": [
  {
   "cell_type": "markdown",
   "metadata": {},
   "source": [
    "# Part I. ETL Pipeline for Pre-Processing the Files"
   ]
  },
  {
   "cell_type": "markdown",
   "metadata": {},
   "source": [
    "### Import Python packages "
   ]
  },
  {
   "cell_type": "code",
   "execution_count": 2,
   "metadata": {},
   "outputs": [],
   "source": [
    "# Import Python packages \n",
    "import pandas as pd\n",
    "import cassandra\n",
    "import re\n",
    "import os\n",
    "import glob\n",
    "import numpy as np\n",
    "import json\n",
    "import csv"
   ]
  },
  {
   "cell_type": "markdown",
   "metadata": {},
   "source": [
    "### Creating list of filepaths to process original event csv data files"
   ]
  },
  {
   "cell_type": "code",
   "execution_count": 4,
   "metadata": {},
   "outputs": [
    {
     "name": "stdout",
     "output_type": "stream",
     "text": [
      "D:\\Data Engineer\\Udacity\\Data Modeling with Cassandra\n",
      "D:\\Data Engineer\\Udacity\\Data Modeling with Cassandra/event_data\\2018-11-01-events.csv\n",
      "D:\\Data Engineer\\Udacity\\Data Modeling with Cassandra/event_data\\2018-11-02-events.csv\n",
      "D:\\Data Engineer\\Udacity\\Data Modeling with Cassandra/event_data\\2018-11-03-events.csv\n",
      "D:\\Data Engineer\\Udacity\\Data Modeling with Cassandra/event_data\\2018-11-04-events.csv\n",
      "D:\\Data Engineer\\Udacity\\Data Modeling with Cassandra/event_data\\2018-11-05-events.csv\n",
      "D:\\Data Engineer\\Udacity\\Data Modeling with Cassandra/event_data\\2018-11-06-events.csv\n",
      "D:\\Data Engineer\\Udacity\\Data Modeling with Cassandra/event_data\\2018-11-07-events.csv\n",
      "D:\\Data Engineer\\Udacity\\Data Modeling with Cassandra/event_data\\2018-11-08-events.csv\n",
      "D:\\Data Engineer\\Udacity\\Data Modeling with Cassandra/event_data\\2018-11-09-events.csv\n",
      "D:\\Data Engineer\\Udacity\\Data Modeling with Cassandra/event_data\\2018-11-10-events.csv\n",
      "D:\\Data Engineer\\Udacity\\Data Modeling with Cassandra/event_data\\2018-11-11-events.csv\n",
      "D:\\Data Engineer\\Udacity\\Data Modeling with Cassandra/event_data\\2018-11-12-events.csv\n",
      "D:\\Data Engineer\\Udacity\\Data Modeling with Cassandra/event_data\\2018-11-13-events.csv\n",
      "D:\\Data Engineer\\Udacity\\Data Modeling with Cassandra/event_data\\2018-11-14-events.csv\n",
      "D:\\Data Engineer\\Udacity\\Data Modeling with Cassandra/event_data\\2018-11-15-events.csv\n",
      "D:\\Data Engineer\\Udacity\\Data Modeling with Cassandra/event_data\\2018-11-16-events.csv\n",
      "D:\\Data Engineer\\Udacity\\Data Modeling with Cassandra/event_data\\2018-11-17-events.csv\n",
      "D:\\Data Engineer\\Udacity\\Data Modeling with Cassandra/event_data\\2018-11-18-events.csv\n",
      "D:\\Data Engineer\\Udacity\\Data Modeling with Cassandra/event_data\\2018-11-19-events.csv\n"
     ]
    }
   ],
   "source": [
    "# checking your current working directory\n",
    "print(os.getcwd())\n",
    "\n",
    "# Get your current folder and subfolder event data\n",
    "filepath = os.getcwd() + '/event_data'\n",
    "\n",
    "# Create a for loop to create a list of files and collect each filepath\n",
    "for root, dirs, files in os.walk(filepath):\n",
    "    \n",
    "# join the file path and roots with the subdirectories using glob\n",
    "    file_path_list = glob.glob(os.path.join(root,'*'))\n",
    "    # Print the list of Files under the Root directory\n",
    "    for file in file_path_list:\n",
    "        print(file)"
   ]
  },
  {
   "cell_type": "markdown",
   "metadata": {},
   "source": [
    "### Processing the files to create the data file csv that will be used for Apache Casssandra tables"
   ]
  },
  {
   "cell_type": "code",
   "execution_count": 15,
   "metadata": {},
   "outputs": [
    {
     "name": "stdout",
     "output_type": "stream",
     "text": [
      "Length of the list containing all the lines of the file(s):  4586\n"
     ]
    }
   ],
   "source": [
    "# initiating an empty list of rows that will be generated from each file\n",
    "full_data_rows_list = [] \n",
    "    \n",
    "# for every filepath in the file path list \n",
    "for f in file_path_list:\n",
    "\n",
    "    # reading csv file \n",
    "    with open(f, 'r', encoding = 'utf8', newline='') as csvfile: \n",
    "        # creating a csv reader object \n",
    "        csvreader = csv.reader(csvfile)\n",
    "        # Iterate to the first row (Column Header) to skip the header\n",
    "        next(csvreader)\n",
    "        \n",
    "        # extracting each data row one by one and append it        \n",
    "        for line in csvreader:\n",
    "            # Add the line to the list\n",
    "            full_data_rows_list.append(line) \n",
    "            \n",
    "#  get total number of rows \n",
    "print(\"Length of the list containing all the lines of the file(s): \", len(full_data_rows_list))\n",
    "\n",
    "# creating a event data csv file called event_datafile_full csv that will be used to insert data into the\n",
    "# Apache Cassandra tables containing all the individual csv files\n",
    "csv.register_dialect('myDialect', quoting=csv.QUOTE_ALL, skipinitialspace=True)\n",
    "\n",
    "with open('event_datafile_new.csv', 'w', encoding = 'utf8', newline='') as f:\n",
    "    writer = csv.writer(f, dialect='myDialect')\n",
    "    writer.writerow(['artist','firstName','gender','itemInSession','lastName','length',\\\n",
    "                    'level','location','sessionId','song','userId'])\n",
    "    for row in full_data_rows_list:\n",
    "        # Ignore the records with No Artist Names\n",
    "        if (row[0] == ''):\n",
    "            continue\n",
    "        writer.writerow((row[0], row[2], row[3], row[4], row[5], row[6], row[7], row[8], row[12], row[13], row[16]))\n",
    "f.close()"
   ]
  },
  {
   "cell_type": "code",
   "execution_count": 16,
   "metadata": {},
   "outputs": [
    {
     "name": "stdout",
     "output_type": "stream",
     "text": [
      "No of Lines in the new CSV file:  3902\n"
     ]
    }
   ],
   "source": [
    "# check the number of rows in your csv file\n",
    "with open('event_datafile_new.csv', 'r', encoding = 'utf8') as f:\n",
    "    print(\"No of Lines in the new CSV file: \", len(f.readlines()))\n"
   ]
  },
  {
   "cell_type": "markdown",
   "metadata": {},
   "source": [
    "# Part II. Complete the Apache Cassandra coding portion of the project. \n",
    "\n",
    "## Now you are ready to work with the CSV file titled <font color=red>event_datafile_new.csv</font>, located within the current directory.  The event_datafile_new.csv contains the following columns: \n",
    "- artist \n",
    "- firstName of user\n",
    "- gender of user\n",
    "- item number in session\n",
    "- last name of user\n",
    "- length of the song\n",
    "- level (paid or free song)\n",
    "- location of the user\n",
    "- sessionId\n",
    "- song title\n",
    "- userId\n",
    "\n",
    "The image below is a screenshot of what the denormalized data should appear like in the <font color=red>**event_datafile_new.csv**</font> after the code above is run:<br>\n",
    "\n",
    "<img src=\"images/image_event_datafile_new.jpg\">"
   ]
  },
  {
   "cell_type": "markdown",
   "metadata": {},
   "source": [
    "## Begin writing your Apache Cassandra code in the cells below"
   ]
  },
  {
   "cell_type": "markdown",
   "metadata": {},
   "source": [
    "### Creating a Cluster"
   ]
  },
  {
   "cell_type": "code",
   "execution_count": 17,
   "metadata": {},
   "outputs": [],
   "source": [
    "# This should make a connection to a Cassandra instance your local machine \n",
    "# (127.0.0.1)\n",
    "\n",
    "from cassandra.cluster import Cluster\n",
    "try:\n",
    "    \n",
    "    cluster = Cluster(['127.0.0.1'])\n",
    "\n",
    "# To establish connection and begin executing queries, need a session\n",
    "    session = cluster.connect()\n",
    "except Exception as e:\n",
    "    print(e)"
   ]
  },
  {
   "cell_type": "markdown",
   "metadata": {},
   "source": [
    "### Create a Keyspace"
   ]
  },
  {
   "cell_type": "code",
   "execution_count": 18,
   "metadata": {},
   "outputs": [],
   "source": [
    "# Create a Keyspace \n",
    "try:\n",
    "    session.execute(\"\"\"\n",
    "    CREATE KEYSPACE IF NOT EXISTS udacity\n",
    "    WITH REPLICATION =\n",
    "    {'class': 'SimpleStrategy', 'replication_factor': 1 } \"\"\"\n",
    "    ) \n",
    "except Exception as e:\n",
    "    print(e)"
   ]
  },
  {
   "cell_type": "markdown",
   "metadata": {},
   "source": [
    "### Set the Keyspace to the existing session"
   ]
  },
  {
   "cell_type": "code",
   "execution_count": 19,
   "metadata": {},
   "outputs": [],
   "source": [
    "# Set KEYSPACE to the keyspace specified above\n",
    "try:\n",
    "    session.set_keyspace('udacity')\n",
    "except Exception as e:\n",
    "    print(e)"
   ]
  },
  {
   "cell_type": "markdown",
   "metadata": {},
   "source": [
    "### Now we need to create tables to run the following queries. Remember, with Apache Cassandra we can model the database tables on the queries we want to run."
   ]
  },
  {
   "cell_type": "markdown",
   "metadata": {},
   "source": [
    "## Create queries to ask the following three questions to the data\n",
    "\n",
    "<ol>\n",
    "    <b>\n",
    "<li> Give me the artist, song title and song's length in the music app history that was heard during  sessionId = 338, and itemInSession  = 4 </li>\n",
    "\n",
    "\n",
    "<li> Give me only the following: name of artist, song (sorted by itemInSession) and user (first and last name) for userid = 10, sessionid = 182 </li>\n",
    "    \n",
    "\n",
    "<li> Give me every user name (first and last) in my music app history who listened to the song 'All Hands Against His Own'\n",
    "</li>\n",
    "</b>\n",
    "</ol>"
   ]
  },
  {
   "cell_type": "markdown",
   "metadata": {},
   "source": [
    "### FIRST QUERY: Create table `song_library` with following fields from `Music App History`\n",
    "\n",
    "<b>\n",
    "<ol>\n",
    "<li> artist </li>\n",
    "<li> song title </li>\n",
    "<li> song's length </li>\n",
    "<li> sessionId </li>\n",
    "<li> itemInSession</li>\n",
    "</ol>\n",
    "</b>\n",
    "\n",
    "### `SessionId and ItemInSession` are partition keys that can be uniquely identify each row.\n",
    "\n",
    "![Table for Query1](images/Query_table1.png)"
   ]
  },
  {
   "cell_type": "code",
   "execution_count": 26,
   "metadata": {},
   "outputs": [],
   "source": [
    "# Create Table\n",
    "query1 = \"CREATE TABLE IF NOT EXISTS song_library\"\n",
    "query1 = query1 + \"(sessionId int, itemInSession int, artist text, song text, length double, PRIMARY KEY(sessionId, itemInSession)) \"\n",
    "\n",
    "try:\n",
    "    session.execute(query1)\n",
    "except Exception as e:\n",
    "    print(e)"
   ]
  },
  {
   "cell_type": "markdown",
   "metadata": {},
   "source": [
    "### Data File containing the consolidated data from the event data log, used to feed all the tables to be created for the above stated business queries."
   ]
  },
  {
   "cell_type": "code",
   "execution_count": 27,
   "metadata": {},
   "outputs": [],
   "source": [
    "file = 'event_datafile_new.csv'"
   ]
  },
  {
   "cell_type": "markdown",
   "metadata": {},
   "source": [
    "### Insert the data to the above `song_library` table"
   ]
  },
  {
   "cell_type": "code",
   "execution_count": 28,
   "metadata": {},
   "outputs": [],
   "source": [
    "with open(file, encoding = 'utf8') as f:\n",
    "    csvreader = csv.reader(f)\n",
    "    next(csvreader) # skip header\n",
    "    for line in csvreader:\n",
    "        query = \"INSERT INTO song_library (sessionId, itemInsession, artist, song, length)\"\n",
    "        query = query + \"VALUES(%s,%s,%s,%s,%s)\"\n",
    "        session.execute(query, (int(line[8]), int (line[3]), line[0], line[9], float (line[5])))   \n",
    "        "
   ]
  },
  {
   "cell_type": "markdown",
   "metadata": {},
   "source": [
    "#### VALIDATE THE DATA MODEL BY USING THE SAMPLE QUERY PROVIDED BY THE BUSINESS"
   ]
  },
  {
   "cell_type": "code",
   "execution_count": 32,
   "metadata": {
    "scrolled": true
   },
   "outputs": [
    {
     "name": "stdout",
     "output_type": "stream",
     "text": [
      "      artist                             song    length\n",
      "0  Faithless  Music Matters (Mark Knight Dub)  495.3073\n"
     ]
    }
   ],
   "source": [
    "# Query the data was entered into the table\n",
    "query = \"SELECT artist, song, length FROM song_library where sessionId=338 and itemInSession=4\"\n",
    "try:\n",
    "    rows= session.execute(query)\n",
    "    \n",
    "    print(disp_df(rows))\n",
    "    \n",
    "except Exception as e:\n",
    "    print(e)\n",
    "\n",
    "for row in rows:\n",
    "    print(row.artist, row.song, row.length)\n",
    "    "
   ]
  },
  {
   "cell_type": "markdown",
   "metadata": {},
   "source": [
    "### SECOND QUERY: Create table `artist_library` with following fields from `Music App History`\n",
    "\n",
    "<b>\n",
    "<ol>\n",
    "<li> artist </li>\n",
    "<li> song title </li>\n",
    "<li> user first name </li>\n",
    "<li> user last name </li>\n",
    "<li> userid </li>\n",
    "<li> session id </li>\n",
    "<li> itemInSession </li>\n",
    "</ol>\n",
    "</b>\n",
    "\n",
    "#### `UserID and SessionId` are partition keys and the `itemInSession` is the clustering Key , together they form the Primary Key that can be used to uniquely identify each row.\n",
    "\n",
    "![Table for Query2](images/Query_table2.png)"
   ]
  },
  {
   "cell_type": "code",
   "execution_count": 36,
   "metadata": {},
   "outputs": [],
   "source": [
    "# Create Table \n",
    "query2 = \"CREATE TABLE IF NOT EXISTS artist_library\"\n",
    "query2 = query2 + \"(userId int, sessionId int, itemInSession int, artist text, song text, firstName text, lastName text, PRIMARY KEY((userId, sessionId),itemInSession)) \"\n",
    "\n",
    "try:\n",
    "    session.execute(query2)\n",
    "except Exception as e:\n",
    "    print(e)\n"
   ]
  },
  {
   "cell_type": "markdown",
   "metadata": {},
   "source": [
    "### Insert the data to the above `artist_library` table"
   ]
  },
  {
   "cell_type": "code",
   "execution_count": 37,
   "metadata": {},
   "outputs": [],
   "source": [
    "file = 'event_datafile_new.csv'\n",
    "\n",
    "with open(file, encoding = 'utf8') as f:\n",
    "    csvreader = csv.reader(f)\n",
    "    next(csvreader) # skip header\n",
    "    for line in csvreader:\n",
    "        query = \"INSERT INTO artist_library (userId, sessionId, itemInSession, artist, song, firstName, lastName)\"\n",
    "        query = query + \"VALUES(%s,%s,%s,%s,%s,%s,%s)\"\n",
    "        session.execute(query, (int(line[10]), int (line[8]), int(line[3]), line[0], line[9],  line[1], line[4])) "
   ]
  },
  {
   "cell_type": "markdown",
   "metadata": {},
   "source": [
    "#### VALIDATE THE DATA MODEL BY USING THE SAMPLE QUERY PROVIDED BY THE BUSINESS"
   ]
  },
  {
   "cell_type": "code",
   "execution_count": 40,
   "metadata": {},
   "outputs": [
    {
     "name": "stdout",
     "output_type": "stream",
     "text": [
      "              artist                                               song  \\\n",
      "0   Down To The Bone                                 Keep On Keepin' On   \n",
      "1       Three Drives                                        Greece 2000   \n",
      "2  Sebastien Tellier                                          Kilometer   \n",
      "3      Lonnie Gordon  Catch You Baby (Steve Pitron & Max Sanna Radio...   \n",
      "\n",
      "  firstname lastname  \n",
      "0    Sylvie     Cruz  \n",
      "1    Sylvie     Cruz  \n",
      "2    Sylvie     Cruz  \n",
      "3    Sylvie     Cruz  \n"
     ]
    }
   ],
   "source": [
    "# Query the artist data for selection userId=10 and sessionId=182\n",
    "query = \"SELECT artist, song, firstName, lastName FROM artist_library where userId=10 and sessionId=182\"\n",
    "try:\n",
    "    rows = session.execute(query)  \n",
    "    print(disp_df(rows))\n",
    "    \n",
    "except Exception as e:\n",
    "    print(e)\n",
    "\n",
    "for row in rows:\n",
    "    print(row.artist, row.song, row.firstname, row.lastname)\n"
   ]
  },
  {
   "cell_type": "markdown",
   "metadata": {},
   "source": [
    "### THIRD QUERY: Create table `users_library` with following fields from `Music App History`\n",
    "\n",
    "<b>\n",
    "<ol>\n",
    "<li> user first name </li>\n",
    "<li> user last name </li>\n",
    "<li> song title </li>\n",
    "<li> userid </li>\n",
    "</ol>\n",
    "</b>\n",
    "\n",
    "#### `UserID and Song` are partition keys that can be used to uniquely identify each row.\n",
    "\n",
    "![Table for Query3](images/Query_table3.png)"
   ]
  },
  {
   "cell_type": "code",
   "execution_count": 43,
   "metadata": {},
   "outputs": [],
   "source": [
    "# Query to create the users library table\n",
    "query3 = \"CREATE TABLE IF NOT EXISTS users_library\"\n",
    "query3 = query3 + \"(song text, userId int, firstName text, lastName text, PRIMARY KEY(song, userId)) \"\n",
    "\n",
    "try:\n",
    "    session.execute(query3)\n",
    "except Exception as e:\n",
    "    print(e)\n",
    "                    "
   ]
  },
  {
   "cell_type": "markdown",
   "metadata": {},
   "source": [
    "### Insert the data to the above `users_library` table"
   ]
  },
  {
   "cell_type": "code",
   "execution_count": 44,
   "metadata": {},
   "outputs": [],
   "source": [
    "# Insert the data from each CSV file into the above created table users_library\n",
    "file = 'event_datafile_new.csv'\n",
    "\n",
    "with open(file, encoding = 'utf8') as f:\n",
    "    csvreader = csv.reader(f)\n",
    "    next(csvreader) # skip header\n",
    "    for line in csvreader:\n",
    "        query = \"INSERT INTO users_library (song, userId, firstName, lastName)\"\n",
    "        query = query + \"VALUES(%s,%s,%s,%s)\"\n",
    "        session.execute(query, (line[9], int(line[10]), line[1], line[4])) "
   ]
  },
  {
   "cell_type": "markdown",
   "metadata": {},
   "source": [
    "#### VALIDATE THE DATA MODEL BY USING THE SAMPLE QUERY PROVIDED BY THE BUSINESS"
   ]
  },
  {
   "cell_type": "code",
   "execution_count": 45,
   "metadata": {},
   "outputs": [
    {
     "name": "stdout",
     "output_type": "stream",
     "text": [
      "    firstname lastname\n",
      "0  Jacqueline    Lynch\n",
      "1       Tegan   Levine\n",
      "2        Sara  Johnson\n"
     ]
    }
   ],
   "source": [
    "# Query the data for users who listened to the song 'All Hands Against His Own'\n",
    "query = \"SELECT firstName, lastName FROM users_library where song= 'All Hands Against His Own'\"\n",
    "try:\n",
    "    rows = session.execute(query)\n",
    "    print(disp_df(rows))\n",
    "except Exception as e:\n",
    "    print(e)\n",
    "    \n",
    "for row in rows:\n",
    "    print(row.firstname, row.lastname)"
   ]
  },
  {
   "cell_type": "markdown",
   "metadata": {},
   "source": [
    "### Drop the tables before closing out the sessions"
   ]
  },
  {
   "cell_type": "code",
   "execution_count": 48,
   "metadata": {},
   "outputs": [],
   "source": [
    "# Drop the tables before closing out the sessions\n",
    "dropTable(\"song_library\")\n",
    "dropTable(\"artist_library\")\n",
    "dropTable(\"users_library\")"
   ]
  },
  {
   "cell_type": "markdown",
   "metadata": {},
   "source": [
    "### DISPLAY RESULTSET AS DATAFRAME"
   ]
  },
  {
   "cell_type": "code",
   "execution_count": 49,
   "metadata": {},
   "outputs": [],
   "source": [
    "def disp_df(rows):\n",
    "    try:\n",
    "        \n",
    "        # Extract the Columns of the ResultSet\n",
    "        cols = rows.one()._fields\n",
    "        # COnvert rows into list of lists\n",
    "        data = [list(row) for row in rows]\n",
    "        # Convert ResultSet into DataFrame\n",
    "        df = pd.DataFrame(data,columns=cols)\n",
    "    \n",
    "        return df\n",
    "    except Exception as e:\n",
    "        return e"
   ]
  },
  {
   "cell_type": "markdown",
   "metadata": {},
   "source": [
    "### DROP TABLE FUNCTION"
   ]
  },
  {
   "cell_type": "code",
   "execution_count": 50,
   "metadata": {},
   "outputs": [],
   "source": [
    "# Drop table from the KeySpace\n",
    "def dropTable(table):\n",
    "    try:\n",
    "        query = \"DROP TABLE IF EXISTS \" + table\n",
    "        session.execute(query)\n",
    "        \n",
    "    except Exception as e:\n",
    "        print(e)"
   ]
  },
  {
   "cell_type": "markdown",
   "metadata": {},
   "source": [
    "### Close the session and cluster connection¶"
   ]
  },
  {
   "cell_type": "code",
   "execution_count": 51,
   "metadata": {},
   "outputs": [],
   "source": [
    "session.shutdown()\n",
    "cluster.shutdown()"
   ]
  },
  {
   "cell_type": "code",
   "execution_count": null,
   "metadata": {},
   "outputs": [],
   "source": []
  }
 ],
 "metadata": {
  "kernelspec": {
   "display_name": "Python 3",
   "language": "python",
   "name": "python3"
  },
  "language_info": {
   "codemirror_mode": {
    "name": "ipython",
    "version": 3
   },
   "file_extension": ".py",
   "mimetype": "text/x-python",
   "name": "python",
   "nbconvert_exporter": "python",
   "pygments_lexer": "ipython3",
   "version": "3.7.3"
  }
 },
 "nbformat": 4,
 "nbformat_minor": 4
}
